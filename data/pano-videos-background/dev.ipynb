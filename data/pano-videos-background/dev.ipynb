{
 "cells": [
  {
   "cell_type": "code",
   "execution_count": 3,
   "id": "046af7cb",
   "metadata": {},
   "outputs": [],
   "source": [
    "import glob\n",
    "import os\n",
    "import sys"
   ]
  },
  {
   "cell_type": "code",
   "execution_count": 16,
   "id": "aabe077e",
   "metadata": {},
   "outputs": [
    {
     "name": "stdout",
     "output_type": "stream",
     "text": [
      "changing file name of downloaded video, starting at 0\n"
     ]
    }
   ],
   "source": [
    "#get all raw files from vid-raw to vid-rename\n",
    "\n",
    "fp0_list = sorted(glob.glob('vid-raw/*'))\n",
    "fp1_list = sorted(glob.glob('vid-renamed/*'))\n",
    "if len(fp1_list) == 0:\n",
    "    idx0 = 0\n",
    "else:\n",
    "    filename, ext = os.path.splitext(fp1_list[-1])\n",
    "    idx0 = int(filename.split('-')[-1])#we assume file name is vid-{idx}, so split '_' gives us the id\n",
    "    \n",
    "print ('changing file name of downloaded video, starting at 0')"
   ]
  },
  {
   "cell_type": "code",
   "execution_count": 13,
   "id": "4b8ebf2a",
   "metadata": {},
   "outputs": [],
   "source": [
    "#move raw files from vid-raw to vid-renamed\n",
    "file = open('./filename-mapping.txt', 'a')\n",
    "for fp in fp0_list:\n",
    "    filename, ext = os.path.splitext(fp)\n",
    "    dfname = f'./vid-renamed/vid-{idx0}{ext}'\n",
    "    os.system(f\"mv \\'{fp}\\' {dfname}\")\n",
    "    file.write(f'{fp}\\t{dfname}\\n')\n",
    "    idx0 += 1"
   ]
  },
  {
   "cell_type": "code",
   "execution_count": null,
   "id": "27af0433",
   "metadata": {},
   "outputs": [],
   "source": []
  }
 ],
 "metadata": {
  "kernelspec": {
   "display_name": "Python (env_hmd_attack)",
   "language": "python",
   "name": "env_hmd_attack"
  },
  "language_info": {
   "codemirror_mode": {
    "name": "ipython",
    "version": 3
   },
   "file_extension": ".py",
   "mimetype": "text/x-python",
   "name": "python",
   "nbconvert_exporter": "python",
   "pygments_lexer": "ipython3",
   "version": "3.7.13"
  }
 },
 "nbformat": 4,
 "nbformat_minor": 5
}
