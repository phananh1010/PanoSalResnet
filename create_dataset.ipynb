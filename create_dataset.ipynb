{
 "cells": [
  {
   "cell_type": "code",
   "execution_count": 1,
   "metadata": {},
   "outputs": [],
   "source": [
    "#TODO: CREATE the ground truth DATASET for SALIENCY MODEL.\n",
    "        #for a given timestamp: a) get saliency maps b) get associated image\n",
    "#INPUT: ds, topic, timestamp\n",
    "#OUTPUT: a pair of image and saliency map\n",
    "\n",
    "\n",
    "#indataset ---> our saliency model ----> outdataset\n",
    "#this step is to create INDATASET\n",
    "\n",
    "import pickle\n",
    "import imp\n",
    "import numpy as np\n",
    "import cv2\n",
    "from matplotlib import pyplot as plt\n",
    "\n",
    "#import saliency_ds_lib\n",
    "import header_saliency_ds as header\n",
    "import headoren_sal_corr_helper\n",
    "\n",
    "\n",
    "imp.reload(header)\n",
    "imp.reload(headoren_sal_corr_helper)\n",
    "#imp.reload(saliency_ds_lib)\n",
    "%matplotlib inline\n",
    "\n",
    "\n",
    "fps_dict = header.fps_dict\n",
    "tdict = header.topic_dict\n",
    "try:\n",
    "    saldat_dict\n",
    "except:\n",
    "    saldat_dict = {}"
   ]
  },
  {
   "cell_type": "code",
   "execution_count": 2,
   "metadata": {},
   "outputs": [
    {
     "name": "stdout",
     "output_type": "stream",
     "text": [
      "NOTE, for predicted sal, will use: ./data/pano-saliency-pred152-step002-iter891/saliency_ds{}_topic{}\n",
      "LOG: initilize headoren\n",
      "LOG: loading topic dict\n",
      "LOG: initilize saldat dict & vector ds dict\n",
      "LOG: initilize mean salmap\n",
      "LOG: initilize sactivity dict\n"
     ]
    }
   ],
   "source": [
    "\n",
    "\n",
    "#now, you go fetch them data for m!\n",
    "#getting saliency data\n",
    "try:\n",
    "    vector_ds_dict\n",
    "except:\n",
    "    vector_ds_dict = {}\n",
    "\n",
    "\n",
    "MODE = 'groundtruth'#generating dataset from groundtruth\n",
    "helper_salgt = headoren_sal_corr_helper.HeadorenSalCorrHelper(saldat_dict, vector_ds_dict, MODE)"
   ]
  },
  {
   "cell_type": "code",
   "execution_count": 3,
   "metadata": {},
   "outputs": [
    {
     "data": {
      "text/plain": [
       "(3.2, 3.2)"
      ]
     },
     "execution_count": 3,
     "metadata": {},
     "output_type": "execute_result"
    }
   ],
   "source": [
    "144/45, 256/80"
   ]
  },
  {
   "cell_type": "code",
   "execution_count": 4,
   "metadata": {},
   "outputs": [],
   "source": [
    "import header_saliency_ds as header\n",
    "class SalnetDatasetGenerator:\n",
    "\n",
    "    def __init__(self, tdict, sal_dict, fps_dict, MODE):\n",
    "        #GOAL: prepare dataset to train saliency predictor (resnet model)\n",
    "        #TODO: create ds_full file \n",
    "        #INPUT: pano-saliency folder & pano-vid/frames folder\n",
    "        #OUTPUT: ds_full file storing ALL (image & fixation input) & saliency ground truth\n",
    "                #ds_train_step file storing file, with steps\n",
    "        self.tdict = tdict\n",
    "        self.saldat_dict = sal_dict\n",
    "        self.vector_ds_dict = {}\n",
    "        self.fps_dict = fps_dict\n",
    "        self.helper_salgt = headoren_sal_corr_helper.HeadorenSalCorrHelper(self.saldat_dict, self.vector_ds_dict, MODE)\n",
    "    \n",
    "    def get_image(self, ds, topic, t0, resize=True):\n",
    "        #handle special case when two names the same\n",
    "        if ds==3 and topic=='diving':\n",
    "            topic = 'diving2'\n",
    "        fps = self.fps_dict[ds][topic]\n",
    "        frameid = int(t0 * fps)\n",
    "        frame_filepath = f'./data/pano-videos/frames/{topic}_{frameid:04d}.jpg'\n",
    "        image = plt.imread(frame_filepath)\n",
    "        if resize==True:\n",
    "            image = cv2.resize(image, (header.TARGET_IMG_W, header.TARGET_IMG_H))\n",
    "        return image, frame_filepath   \n",
    "    \n",
    "    def find_timeindex(self, t0, t_list):\n",
    "        #TODO: find the nearest index in the given time list\n",
    "        #INPUT: target time t0, time_list\n",
    "        #OUTPUT: the index for t_list\n",
    "        if t0 < t_list[0]: \n",
    "            return 0\n",
    "        if t0 > t_list[-1]:\n",
    "            return len(t_list) - 1\n",
    "        for idx, _ in enumerate(t_list[1:]):\n",
    "            if t_list[idx] > t0 and t_list[idx-1] <= t0:\n",
    "                return idx\n",
    "        print (t0, idx, t_list[idx], t_list[idx-1])\n",
    "        raise #you should not get here\n",
    "    \n",
    "    def get_saliencymap(self, saldat, ds, topic, t0, blur=True, resize=True):\n",
    "        t_list = [item[0] for item in saldat]\n",
    "        idx = self.find_timeindex(t0, t_list)\n",
    "        _, _, salmap = saldat[idx]\n",
    "        if blur==True:\n",
    "            salmap = cv2.GaussianBlur(salmap,(header.TARGET_GAUSSIAN_BLUR, header.TARGET_GAUSSIAN_BLUR),0)\n",
    "        if resize==True:\n",
    "            salmap = cv2.resize(salmap, (header.TARGET_SAL_W, header.TARGET_SAL_H))\n",
    "        if ds==3 and topic=='panel':\n",
    "            h, w = salmap.shape\n",
    "            d_roll = int(h * 0.08)\n",
    "            salmap = np.roll(salmap, d_roll, axis=0)\n",
    "        return salmap\n",
    "    \n",
    "    def get_sample(self, ds, topic, t0):\n",
    "            self.helper_salgt.f_load_saldat_dict(ds, topic)\n",
    "            saldat = self.helper_salgt.saldat_dict[self.helper_salgt.f_create_key(ds, topic)]\n",
    "            img, img_fp = self.get_image(ds, topic, t0)\n",
    "            smap = self.get_saliencymap(saldat, ds, topic, t0)\n",
    "            return img, smap\n",
    "        \n",
    "    def gen_train_dataset(self, step):\n",
    "        #TODO1: Create trainset for saliency predictor at step\n",
    "        sal_ds = []\n",
    "        bpos, epos, step = 4, 60, step\n",
    "        for ds in self.tdict:\n",
    "            for topic in self.tdict[ds]:\n",
    "                k = self.helper_salgt.f_create_key(ds, topic)\n",
    "                try:\n",
    "                    for t0 in np.arange(bpos, epos, step):\n",
    "                        img, smap = self.get_sample(ds, topic, t0)\n",
    "                        sal_ds.append((t0, img, smap))\n",
    "                except Exception as e:\n",
    "                    print (f\"Error at :{ds} - {topic} - {t0} - {e}\")\n",
    "                    continue\n",
    "        pickle.dump(sal_ds, open(f'./data/pano-saliency/ds_dcnn_step{step}', 'wb'))\n",
    "        \n",
    "    def gen_test_dataset(self):\n",
    "        #TODO2: Create test set by getting frame at 4.5, 5.5,  ... timestamp\n",
    "        sal_ds_test = []\n",
    "        bpos, epos, step = 4.5, 60, 1.0\n",
    "        for ds in tdict:\n",
    "            for topic in tdict[ds]:\n",
    "                k = self.helper_salgt.f_create_key(ds, topic)\n",
    "                try:\n",
    "                    for t0 in np.arange(bpos, epos, step):\n",
    "                        img, smap = self.get_sample(ds, topic, t0)\n",
    "                        sal_ds_test.append(((ds, topic, t0), img, smap))\n",
    "                except Exception as e:\n",
    "                    print (f\"Error at :{ds} - {topic} - {t0} - {e}\")\n",
    "                    continue\n",
    "        pickle.dump(sal_ds_test, open('./data/pano-saliency/ds_dcnn_test', 'wb'))\n",
    "    \n",
    "    def gen_whole_dataset(self):\n",
    "        tdict = header.topic_dict\n",
    "        time_dict = {1:{}, 2:{}, 3:{}}\n",
    "        for ds in tdict:\n",
    "            for topic in tdict[ds]:\n",
    "                dat = pickle.load(open(f'./data/pano-saliency/saliency_ds{ds}_topic{topic}', 'rb'))\n",
    "                time_dict[ds][topic] = [item[0] for item in dat]\n",
    "        salpred_ds =[]\n",
    "        for ds in self.tdict:\n",
    "            for topic in self.tdict[ds]:\n",
    "                k = self.helper_salgt.f_create_key(ds, topic)\n",
    "                try:\n",
    "                    for t0 in time_dict[ds][topic]:\n",
    "                        img, smap = self.get_sample(ds, topic, t0)\n",
    "                        salpred_ds.append(((ds, topic, t0), img, smap))\n",
    "                except Exception as e:\n",
    "                    print (f\"Error at :{ds} - {topic} - {t0} - {e}\")\n",
    "                    continue\n",
    "        pickle.dump(salpred_ds, open('./data/pano-saliency/ds_full', 'wb'))"
   ]
  },
  {
   "cell_type": "code",
   "execution_count": 5,
   "metadata": {},
   "outputs": [
    {
     "name": "stdout",
     "output_type": "stream",
     "text": [
      "NOTE, for predicted sal, will use: ./data/pano-saliency-pred152-step002-iter891/saliency_ds{}_topic{}\n",
      "LOG: initilize headoren\n",
      "LOG: loading topic dict\n",
      "LOG: initilize saldat dict & vector ds dict\n",
      "LOG: initilize mean salmap\n",
      "LOG: initilize sactivity dict\n"
     ]
    }
   ],
   "source": [
    "fps_dict = header.fps_dict\n",
    "tdict = header.topic_dict\n",
    "MODE = 'groundtruth' #NOTE: create saliency dataset for salnet alway use groundtruth\n",
    "try:\n",
    "    saldat_dict\n",
    "except:\n",
    "    saldat_dict = {}\n",
    "salnet_datgen = SalnetDatasetGenerator(tdict, saldat_dict, fps_dict, MODE)"
   ]
  },
  {
   "cell_type": "code",
   "execution_count": null,
   "metadata": {},
   "outputs": [
    {
     "name": "stdout",
     "output_type": "stream",
     "text": [
      "Error at :1 - paris - 18.200000000000014 - Expected Ptr<cv::UMat> for argument '%s'\n"
     ]
    }
   ],
   "source": [
    "salnet_datgen.gen_train_dataset(0.2)"
   ]
  },
  {
   "cell_type": "code",
   "execution_count": null,
   "metadata": {},
   "outputs": [],
   "source": [
    "salnet_datgen.gen_test_dataset()"
   ]
  },
  {
   "cell_type": "code",
   "execution_count": null,
   "metadata": {},
   "outputs": [],
   "source": [
    "salnet_datgen.gen_whole_dataset()"
   ]
  },
  {
   "cell_type": "code",
   "execution_count": 33,
   "metadata": {},
   "outputs": [],
   "source": [
    "dat = pickle.load(open('./data/pano-saliency/ds_dcnn_step0.2', 'rb'))"
   ]
  },
  {
   "cell_type": "code",
   "execution_count": null,
   "metadata": {},
   "outputs": [],
   "source": []
  },
  {
   "cell_type": "code",
   "execution_count": null,
   "metadata": {},
   "outputs": [],
   "source": []
  },
  {
   "cell_type": "code",
   "execution_count": null,
   "metadata": {},
   "outputs": [],
   "source": []
  },
  {
   "cell_type": "code",
   "execution_count": null,
   "metadata": {},
   "outputs": [],
   "source": []
  },
  {
   "cell_type": "code",
   "execution_count": null,
   "metadata": {},
   "outputs": [],
   "source": []
  },
  {
   "cell_type": "code",
   "execution_count": null,
   "metadata": {},
   "outputs": [],
   "source": []
  },
  {
   "cell_type": "code",
   "execution_count": null,
   "metadata": {},
   "outputs": [],
   "source": []
  },
  {
   "cell_type": "code",
   "execution_count": 11,
   "metadata": {},
   "outputs": [
    {
     "data": {
      "text/plain": [
       "<matplotlib.image.AxesImage at 0x7f97596ae5d0>"
      ]
     },
     "execution_count": 11,
     "metadata": {},
     "output_type": "execute_result"
    },
    {
     "data": {
      "image/png": "[encoded data removed]",
      "text/plain": [
       "<Figure size 432x288 with 1 Axes>"
      ]
     },
     "metadata": {
      "needs_background": "light"
     },
     "output_type": "display_data"
    },
    {
     "data": {
      "image/png": "[encoded data removed]",
      "text/plain": [
       "<Figure size 432x288 with 1 Axes>"
      ]
     },
     "metadata": {
      "needs_background": "light"
     },
     "output_type": "display_data"
    }
   ],
   "source": [
    "#DEBUG for class pakage\n",
    "ds = 1\n",
    "topic = 'paris'\n",
    "t0 = 19.6\n",
    "img, smap = salnet_datgen.get_sample(ds, topic, t0)\n",
    "plt.imshow(img)\n",
    "plt.figure()\n",
    "plt.imshow(smap, cmap='gray')"
   ]
  },
  {
   "cell_type": "code",
   "execution_count": null,
   "metadata": {},
   "outputs": [],
   "source": []
  },
  {
   "cell_type": "code",
   "execution_count": null,
   "metadata": {},
   "outputs": [],
   "source": []
  },
  {
   "cell_type": "code",
   "execution_count": null,
   "metadata": {},
   "outputs": [],
   "source": []
  },
  {
   "cell_type": "code",
   "execution_count": null,
   "metadata": {},
   "outputs": [],
   "source": []
  },
  {
   "cell_type": "code",
   "execution_count": null,
   "metadata": {},
   "outputs": [],
   "source": []
  },
  {
   "cell_type": "code",
   "execution_count": null,
   "metadata": {},
   "outputs": [],
   "source": []
  },
  {
   "cell_type": "code",
   "execution_count": null,
   "metadata": {},
   "outputs": [],
   "source": []
  },
  {
   "cell_type": "code",
   "execution_count": null,
   "metadata": {},
   "outputs": [],
   "source": []
  },
  {
   "cell_type": "code",
   "execution_count": null,
   "metadata": {},
   "outputs": [],
   "source": []
  },
  {
   "cell_type": "code",
   "execution_count": 6,
   "metadata": {},
   "outputs": [],
   "source": [
    "\n",
    "\n",
    "def find_timeindex(t0, t_list):\n",
    "    #TODO: find the nearest index in the given time list\n",
    "    #INPUT: target time t0, time_list\n",
    "    #OUTPUT: the index for t_list\n",
    "    if t0 < t_list[0]: \n",
    "        return 0\n",
    "    if t0 > t_list[-1]:\n",
    "        return len(t_list) - 1\n",
    "    for idx, _ in enumerate(t_list[1:]):\n",
    "        if t_list[idx] > t0 and t_list[idx-1] <= t0:\n",
    "            return idx\n",
    "    print (t0, idx, t_list[idx], t_list[idx-1])\n",
    "    raise #you should not get here\n",
    "    \n",
    "def get_saliencymap(saldat, ds, topic, t0, blur=True, resize=True):\n",
    "    t_list = [item[0] for item in saldat]\n",
    "    idx = find_timeindex(t0, t_list)\n",
    "    _, _, salmap = saldat[idx]\n",
    "    if blur==True:\n",
    "        salmap = cv2.GaussianBlur(salmap,(TARGET_GAUSSIAN_BLUR,TARGET_GAUSSIAN_BLUR),0)\n",
    "    if ds==3 and topic=='panel':\n",
    "        h, w = salmap.shape\n",
    "        d_roll = int(h * 0.08)\n",
    "        salmap = np.roll(salmap, d_roll, axis=0)\n",
    "    return salmap\n",
    "\n",
    "def get_image(fps_dict, ds, topic, t0, resize=True):\n",
    "    #handle special case when two names the same\n",
    "    if ds==3 and topic=='diving':\n",
    "        topic = 'diving2'\n",
    "    fps = fps_dict[ds][topic]\n",
    "    frameid = int(t0 * fps)\n",
    "    frame_filepath = f'./dataset/pano-videos/frames/{topic}_{frameid:04d}.jpg'\n",
    "    image = plt.imread(frame_filepath)\n",
    "    if resize==True:\n",
    "        image = cv2.resize(image, (TARGET_W, TARGET_H))\n",
    "    return image, frame_filepath\n",
    "\n",
    "def get_sample(saldict, fps_dict, ds, topic, t0):\n",
    "    saliency_ds_lib.f_load_saldat_dict(saldict, ds, topic)\n",
    "    saldat = saldict[saliency_ds_lib.f_create_key(ds, topic)]\n",
    "    img, img_fp = get_image(fps_dict, ds, topic, t0)\n",
    "    smap = get_saliencymap(saldat, ds, topic, t0)\n",
    "    return img, smap"
   ]
  },
  {
   "cell_type": "code",
   "execution_count": 7,
   "metadata": {},
   "outputs": [
    {
     "data": {
      "text/plain": [
       "{1: ['paris', 'roller', 'venise', 'diving', 'timelapse'],\n",
       " 2: ['0', '1', '2', '3', '4', '5part1', '6part1', '7', '8'],\n",
       " 3: ['coaster2',\n",
       "  'diving',\n",
       "  'drive',\n",
       "  'game',\n",
       "  'landscape',\n",
       "  'pacman',\n",
       "  'ride',\n",
       "  'sport']}"
      ]
     },
     "execution_count": 7,
     "metadata": {},
     "output_type": "execute_result"
    }
   ],
   "source": [
    "tdict"
   ]
  },
  {
   "cell_type": "code",
   "execution_count": 15,
   "metadata": {},
   "outputs": [
    {
     "name": "stdout",
     "output_type": "stream",
     "text": [
      "Error at :3 - coaster2 - 27.40000000000002 - [Errno 2] No such file or directory: './dataset/pano-videos/frames/coaster2_1644.jpg'\n"
     ]
    }
   ],
   "source": [
    "#TODO1: Create train set by getting frame at 4.0, 5.0,  ... timestamp\n",
    "sal_ds = []\n",
    "bpos, epos, step = 4, 60, 0.2\n",
    "for ds in tdict:\n",
    "    for topic in tdict[ds]:\n",
    "        k = saliency_ds_lib.f_create_key(ds, topic)\n",
    "        try:\n",
    "            for t0 in np.arange(bpos, epos, step):\n",
    "                img, smap = get_sample(saldict, fps_dict, ds, topic, t0)\n",
    "                sal_ds.append((t0, img, smap))\n",
    "        except Exception as e:\n",
    "            print (f\"Error at :{ds} - {topic} - {t0} - {e}\")\n",
    "            continue\n",
    "pickle.dump(sal_ds, open('./dataset/pano-saliency/ds_dcnn_step002', 'wb'))"
   ]
  },
  {
   "cell_type": "code",
   "execution_count": 6,
   "metadata": {},
   "outputs": [
    {
     "data": {
      "text/plain": [
       "2"
      ]
     },
     "execution_count": 6,
     "metadata": {},
     "output_type": "execute_result"
    }
   ],
   "source": [
    "1+1"
   ]
  },
  {
   "cell_type": "code",
   "execution_count": null,
   "metadata": {},
   "outputs": [],
   "source": []
  },
  {
   "cell_type": "code",
   "execution_count": 7,
   "metadata": {},
   "outputs": [
    {
     "name": "stdout",
     "output_type": "stream",
     "text": [
      "Error at :3 - coaster2 - 27.5 - [Errno 2] No such file or directory: './dataset/pano-videos/frames/coaster2_1650.jpg'\n"
     ]
    }
   ],
   "source": [
    "#TODO2: Create test set by getting frame at 4.5, 5.5,  ... timestamp\n",
    "sal_ds_test = []\n",
    "bpos, epos, step = 4.5, 60, 1.0\n",
    "for ds in tdict:\n",
    "    for topic in tdict[ds]:\n",
    "        k = saliency_ds_lib.f_create_key(ds, topic)\n",
    "        try:\n",
    "            for t0 in np.arange(bpos, epos, step):\n",
    "                img, smap = get_sample(saldict, fps_dict, ds, topic, t0)\n",
    "                sal_ds_test.append(((ds, topic, t0), img, smap))\n",
    "        except Exception as e:\n",
    "            print (f\"Error at :{ds} - {topic} - {t0} - {e}\")\n",
    "            continue\n",
    "pickle.dump(sal_ds_test, open('./dataset/pano-saliency/ds_dcnn_test', 'wb'))"
   ]
  },
  {
   "cell_type": "code",
   "execution_count": 8,
   "metadata": {},
   "outputs": [],
   "source": [
    "#TODO3: generate gt & pred saliency maps for video identification algorithm (matching eval)\n",
    "#INPUT: \n",
    "\n",
    "#getting all timestamp from ./dataset/pano-saliency/ folder\n",
    "tdict = header.topic_dict\n",
    "time_dict = {1:{}, 2:{}, 3:{}}\n",
    "for ds in tdict:\n",
    "    for topic in tdict[ds]:\n",
    "        dat = pickle.load(open(f'./dataset/pano-saliency/saliency_ds{ds}_topic{topic}', 'rb'))\n",
    "        time_dict[ds][topic] = [item[0] for item in dat]\n",
    "       "
   ]
  },
  {
   "cell_type": "code",
   "execution_count": 9,
   "metadata": {},
   "outputs": [
    {
     "name": "stdout",
     "output_type": "stream",
     "text": [
      "Error at :1 - paris - 60.10000000000005 - [Errno 2] No such file or directory: './dataset/pano-videos/frames/paris_3602.jpg'\n",
      "Error at :1 - roller - 62.14000000000006 - [Errno 2] No such file or directory: './dataset/pano-videos/frames/roller_1802.jpg'\n",
      "Error at :1 - venise - 60.10000000000005 - [Errno 2] No such file or directory: './dataset/pano-videos/frames/venise_1502.jpg'\n",
      "59.92000000000005 982 59.92000000000005 59.86000000000005\n",
      "Error at :1 - diving - 59.92000000000005 - No active exception to reraise\n",
      "Error at :1 - timelapse - 60.10000000000005 - [Errno 2] No such file or directory: './dataset/pano-videos/frames/timelapse_1803.jpg'\n",
      "Error at :2 - 0 - 60.10000000000005 - [Errno 2] No such file or directory: './dataset/pano-videos/frames/0_1801.jpg'\n",
      "Error at :2 - 1 - 60.16000000000005 - [Errno 2] No such file or directory: './dataset/pano-videos/frames/1_1802.jpg'\n",
      "Error at :2 - 2 - 60.10000000000005 - [Errno 2] No such file or directory: './dataset/pano-videos/frames/2_1803.jpg'\n",
      "Error at :2 - 3 - 60.10000000000005 - [Errno 2] No such file or directory: './dataset/pano-videos/frames/3_1801.jpg'\n",
      "Error at :2 - 4 - 60.10000000000005 - [Errno 2] No such file or directory: './dataset/pano-videos/frames/4_1801.jpg'\n",
      "Error at :2 - 5part1 - 60.10000000000005 - [Errno 2] No such file or directory: './dataset/pano-videos/frames/5part1_1801.jpg'\n",
      "Error at :2 - 6part1 - 60.16000000000005 - [Errno 2] No such file or directory: './dataset/pano-videos/frames/6part1_1504.jpg'\n",
      "Error at :2 - 7 - 60.16000000000005 - [Errno 2] No such file or directory: './dataset/pano-videos/frames/7_1504.jpg'\n",
      "Error at :2 - 8 - 60.16000000000005 - [Errno 2] No such file or directory: './dataset/pano-videos/frames/8_1802.jpg'\n",
      "Error at :3 - coaster2 - 27.220000000000024 - [Errno 2] No such file or directory: './dataset/pano-videos/frames/coaster2_1633.jpg'\n",
      "59.92000000000005 982 59.92000000000005 59.86000000000005\n",
      "Error at :3 - diving - 59.92000000000005 - No active exception to reraise\n",
      "59.92000000000005 982 59.92000000000005 59.86000000000005\n",
      "Error at :3 - drive - 59.92000000000005 - No active exception to reraise\n",
      "59.92000000000005 982 59.92000000000005 59.86000000000005\n",
      "Error at :3 - game - 59.92000000000005 - No active exception to reraise\n",
      "59.92000000000005 982 59.92000000000005 59.86000000000005\n",
      "Error at :3 - landscape - 59.92000000000005 - No active exception to reraise\n",
      "59.92000000000005 982 59.92000000000005 59.86000000000005\n",
      "Error at :3 - pacman - 59.92000000000005 - No active exception to reraise\n",
      "59.92000000000005 982 59.92000000000005 59.86000000000005\n",
      "Error at :3 - ride - 59.92000000000005 - No active exception to reraise\n",
      "59.92000000000005 982 59.92000000000005 59.86000000000005\n",
      "Error at :3 - sport - 59.92000000000005 - No active exception to reraise\n"
     ]
    }
   ],
   "source": [
    "#\n",
    "salpred_ds =[]\n",
    "for ds in tdict:\n",
    "    for topic in tdict[ds]:\n",
    "        k = saliency_ds_lib.f_create_key(ds, topic)\n",
    "        try:\n",
    "            for t0 in time_dict[ds][topic]:\n",
    "                img, smap = get_sample(saldict, fps_dict, ds, topic, t0)\n",
    "                salpred_ds.append(((ds, topic, t0), img, smap))\n",
    "        except Exception as e:\n",
    "            print (f\"Error at :{ds} - {topic} - {t0} - {e}\")\n",
    "            continue\n",
    "pickle.dump(salpred_ds, open('./dataset/pano-saliency/ds_full', 'wb'))"
   ]
  },
  {
   "cell_type": "code",
   "execution_count": null,
   "metadata": {},
   "outputs": [],
   "source": [
    "pwd"
   ]
  },
  {
   "cell_type": "code",
   "execution_count": null,
   "metadata": {},
   "outputs": [],
   "source": []
  },
  {
   "cell_type": "code",
   "execution_count": null,
   "metadata": {},
   "outputs": [],
   "source": [
    "#pickle.dump(salpred_ds, open('./dataset/pano-saliency/ds_full', 'wb'))"
   ]
  },
  {
   "cell_type": "code",
   "execution_count": null,
   "metadata": {},
   "outputs": [],
   "source": []
  },
  {
   "cell_type": "code",
   "execution_count": null,
   "metadata": {},
   "outputs": [],
   "source": []
  },
  {
   "cell_type": "code",
   "execution_count": null,
   "metadata": {},
   "outputs": [],
   "source": []
  },
  {
   "cell_type": "code",
   "execution_count": null,
   "metadata": {},
   "outputs": [],
   "source": []
  },
  {
   "cell_type": "code",
   "execution_count": null,
   "metadata": {},
   "outputs": [],
   "source": [
    "#SOME VISUALIZATION and DEBUGGING code"
   ]
  },
  {
   "cell_type": "code",
   "execution_count": null,
   "metadata": {},
   "outputs": [],
   "source": []
  },
  {
   "cell_type": "code",
   "execution_count": null,
   "metadata": {},
   "outputs": [],
   "source": []
  },
  {
   "cell_type": "code",
   "execution_count": 2,
   "metadata": {},
   "outputs": [
    {
     "data": {
      "text/plain": [
       "12.0"
      ]
     },
     "execution_count": 2,
     "metadata": {},
     "output_type": "execute_result"
    }
   ],
   "source": [
    "48 * 0.25"
   ]
  },
  {
   "cell_type": "code",
   "execution_count": null,
   "metadata": {},
   "outputs": [],
   "source": []
  }
 ],
 "metadata": {
  "kernelspec": {
   "display_name": "Python (env_headoren)",
   "language": "python",
   "name": "env_headoren"
  },
  "language_info": {
   "codemirror_mode": {
    "name": "ipython",
    "version": 3
   },
   "file_extension": ".py",
   "mimetype": "text/x-python",
   "name": "python",
   "nbconvert_exporter": "python",
   "pygments_lexer": "ipython3",
   "version": "3.7.5"
  }
 },
 "nbformat": 4,
 "nbformat_minor": 2
}
